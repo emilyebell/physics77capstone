{
 "cells": [
  {
   "cell_type": "code",
   "execution_count": 27,
   "id": "7fa29de7-8273-49fd-80fa-18c2cc5365fd",
   "metadata": {},
   "outputs": [
    {
     "data": {
      "application/vnd.jupyter.widget-view+json": {
       "model_id": "c6d0e1e766a94ef3b42a3914cde03915",
       "version_major": 2,
       "version_minor": 0
      },
      "text/plain": [
       "interactive(children=(FloatText(value=1.4, description='a:'), FloatText(value=0.3, description='b:'), IntText(…"
      ]
     },
     "metadata": {},
     "output_type": "display_data"
    },
    {
     "data": {
      "text/plain": [
       "<function __main__.plot_henon(a, b, num_iterations=10000)>"
      ]
     },
     "execution_count": 27,
     "metadata": {},
     "output_type": "execute_result"
    }
   ],
   "source": [
    "import numpy as np\n",
    "import matplotlib.pyplot as plt\n",
    "from ipywidgets import interact, FloatText, IntText, VBox\n",
    "from IPython.display import display\n",
    "\n",
    "def henon_map(x, y, a, b):\n",
    "    x_next = 1 - a * x**2 + y\n",
    "    y_next = b * x\n",
    "    return x_next, y_next\n",
    "\n",
    "def simulate_henon(a, b, num_iterations, initial_conditions=(0, 0)):\n",
    "    x, y = initial_conditions\n",
    "    xs, ys = [x], [y]\n",
    "    \n",
    "    num_iterations = int(num_iterations)\n",
    "    \n",
    "    for _ in range(num_iterations):\n",
    "        x, y = henon_map(x, y, a, b)\n",
    "        xs.append(x)\n",
    "        ys.append(y)\n",
    "\n",
    "    return np.array(xs), np.array(ys)\n",
    "\n",
    "def plot_henon(a, b, num_iterations=10000):\n",
    "    xs, ys = simulate_henon(a, b, num_iterations)\n",
    "    \n",
    "    plt.figure(figsize=(10, 6))\n",
    "    plt.scatter(xs, ys, s=0.1, color='blue', alpha=0.5)\n",
    "    plt.title(f\"Hénon Map with a={a} and b={b}\")\n",
    "    plt.xlabel(\"x\")\n",
    "    plt.ylabel(\"y\")\n",
    "    plt.show()\n",
    "\n",
    "#interactive widgets\n",
    "interact(\n",
    "    plot_henon,\n",
    "    a=FloatText(value=1.4, description='a:'),\n",
    "    b=FloatText(value=0.3, description='b:'),\n",
    "    num_iterations=IntText(value=10000, description='Iterations:')\n",
    ")\n"
   ]
  },
  {
   "cell_type": "code",
   "execution_count": null,
   "id": "db7b7598-6daa-43d0-a1c0-06bd06cff314",
   "metadata": {},
   "outputs": [],
   "source": []
  }
 ],
 "metadata": {
  "kernelspec": {
   "display_name": "Python 3 (ipykernel)",
   "language": "python",
   "name": "python3"
  },
  "language_info": {
   "codemirror_mode": {
    "name": "ipython",
    "version": 3
   },
   "file_extension": ".py",
   "mimetype": "text/x-python",
   "name": "python",
   "nbconvert_exporter": "python",
   "pygments_lexer": "ipython3",
   "version": "3.10.11"
  }
 },
 "nbformat": 4,
 "nbformat_minor": 5
}
